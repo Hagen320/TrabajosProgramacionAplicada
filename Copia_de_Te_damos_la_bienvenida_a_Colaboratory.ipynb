{
  "nbformat": 4,
  "nbformat_minor": 0,
  "metadata": {
    "colab": {
      "name": "Copia de Te damos la bienvenida a Colaboratory",
      "provenance": [],
      "collapsed_sections": [],
      "toc_visible": true,
      "include_colab_link": true
    },
    "kernelspec": {
      "display_name": "Python 3",
      "name": "python3"
    }
  },
  "cells": [
    {
      "cell_type": "markdown",
      "metadata": {
        "id": "view-in-github",
        "colab_type": "text"
      },
      "source": [
        "<a href=\"https://colab.research.google.com/github/Hagen320/TrabajosProgramacionAplicada/blob/main/Copia_de_Te_damos_la_bienvenida_a_Colaboratory.ipynb\" target=\"_parent\"><img src=\"https://colab.research.google.com/assets/colab-badge.svg\" alt=\"Open In Colab\"/></a>"
      ]
    },
    {
      "cell_type": "code",
      "metadata": {
        "colab": {
          "base_uri": "https://localhost:8080/"
        },
        "id": "-jmwxI5y95Vi",
        "outputId": "793f06cd-9e7d-4de9-9b98-3643e01ea408"
      },
      "source": [
        "Documento = open(\"palabras500.csv\", encoding=\"utf-8\")\n",
        "palabras = Documento.readlines()\n",
        "Documento.close()\n",
        "\n",
        "len(palabras)"
      ],
      "execution_count": 14,
      "outputs": [
        {
          "output_type": "execute_result",
          "data": {
            "text/plain": [
              "500"
            ]
          },
          "metadata": {},
          "execution_count": 14
        }
      ]
    },
    {
      "cell_type": "code",
      "metadata": {
        "colab": {
          "base_uri": "https://localhost:8080/"
        },
        "id": "mFp0CIKZPEF4",
        "outputId": "49ad7f29-5f4d-48ce-f31d-87ea9ce820fb"
      },
      "source": [
        "print(palabras[3])\n",
        "\n",
        "\n",
        "\n",
        "\n"
      ],
      "execution_count": 121,
      "outputs": [
        {
          "output_type": "stream",
          "name": "stdout",
          "text": [
            "el\n",
            "\n"
          ]
        }
      ]
    },
    {
      "cell_type": "code",
      "metadata": {
        "colab": {
          "base_uri": "https://localhost:8080/"
        },
        "id": "yhzvz2k5AR6h",
        "outputId": "d6bd2440-0187-49fc-834a-994f9dc30379"
      },
      "source": [
        "silaba=input(\"escriba la silaba que quiere rimar de dos letras: \")\n",
        "\n",
        "for i in palabras:\n",
        "    if (silaba) in i:\n",
        "      print(i)\n"
      ],
      "execution_count": 131,
      "outputs": [
        {
          "output_type": "stream",
          "name": "stdout",
          "text": [
            "escriba la silaba que quiere rimar de dos letras: re\n",
            "sobre\n",
            "\n",
            "entre\n",
            "\n",
            "siempre\n",
            "\n",
            "tres\n",
            "\n",
            "presidente\n",
            "\n",
            "empresa\n",
            "\n",
            "empresas\n",
            "\n",
            "frente\n",
            "\n",
            "creo\n",
            "\n",
            "derecho\n",
            "\n",
            "respecto\n",
            "\n",
            "recursos\n",
            "\n",
            "diferentes\n",
            "\n",
            "relación\n",
            "\n",
            "parece\n",
            "\n",
            "derechos\n",
            "\n",
            "nombre\n",
            "\n",
            "mujeres\n",
            "\n",
            "director\n",
            "\n",
            "presente\n",
            "\n",
            "realidad\n",
            "\n",
            "hombre\n",
            "\n",
            "resultados\n",
            "\n",
            "dirección\n",
            "\n",
            "realizar\n",
            "\n",
            "trabajadores\n",
            "\n",
            "región\n",
            "\n",
            "área\n",
            "\n",
            "diciembre\n",
            "\n",
            "octubre\n",
            "\n",
            "presencia\n",
            "\n",
            "red\n",
            "\n",
            "respuesta\n",
            "\n",
            "real\n",
            "\n",
            "noviembre\n",
            "\n",
            "quiere\n",
            "\n",
            "mejores\n",
            "\n"
          ]
        }
      ]
    }
  ]
}